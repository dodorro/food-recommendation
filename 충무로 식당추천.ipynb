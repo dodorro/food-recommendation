{
 "cells": [
  {
   "cell_type": "code",
   "execution_count": 1,
   "id": "2aaa1f27",
   "metadata": {},
   "outputs": [
    {
     "name": "stdout",
     "output_type": "stream",
     "text": [
      "\n",
      "안녕하세요. 웰컴 투 동맛골 입니다! 저희 프로그램을 찾아주셔서 감사드립니다\n",
      "이 프로그램은 동국대학교의 인근 맛집을 추천해주는 프로그램으로 여러분의 예산과 시간 등을 종합적으로 고려하여 맞춤형 맛집 필터링을 제공합니다.\n",
      "현재 프로그램은 alpha test중에 있습니다. 모두 실제 충무로 식당 실측 자료조사를 기반으로 제작되었으나, 다양한 상황변수 체크를 위해 일부는 fake data로 작성되었음을 알려드립니다\n",
      "--------------------------------------------------------------------\n",
      "\n",
      "자~ 이제 맛집을 찾으러 떠나볼까요? 본인의 사용가능한 예산과 이동가능 시간을 입력해주세요^^\n",
      "\n",
      "-------------------------------------------------------------------\n",
      "사용가능한 금액을 입력해주세요(원): 10000\n",
      "최대 이동가능한 시간을 입력해주세요(분): 20\n",
      "\n",
      "--------------------------검색 완료-----------------------------------\n",
      "홍탁 음식점을 추천드립니다. 대표메뉴:보쌈정식/가격:8000원\n",
      "계림마늘닭 음식점을 추천드립니다. 대표메뉴:마늘닭볶음탕/가격:10000원\n"
     ]
    }
   ],
   "source": [
    "\n",
    "import os\n",
    "\n",
    "menus = {'홍탁':8000, '계림마늘닭':10000, '김치만김치찌개':7000, '필동부대찌개':6000,'닭한마리':12000,'진땡이순대국':5000,'허수아비돈까스':9000,'이대헌스시':11000,'필동등심':16000,'필동함박':13000}\n",
    "distances={'홍탁':10,'계림마늘닭':16,'김치만김치찌개':8,'필동부대찌개':3,'닭한마리':8,'진땡이순대국':5,'허수아비돈까스':7,'이대헌스시':11,'필동등심':10,'필동함박':14}\n",
    "\n",
    "list_price = [] \n",
    "list_distance =[] \n",
    "list_total=[] \n",
    "menu_check=[] \n",
    "empty_check=[] \n",
    "\n",
    "print('\\n안녕하세요. 웰컴 투 동맛골 입니다! 저희 프로그램을 찾아주셔서 감사드립니다') \n",
    "print('이 프로그램은 동국대학교의 인근 맛집을 추천해주는 프로그램으로 여러분의 예산과 시간 등을 종합적으로 고려하여 맞춤형 맛집 필터링을 제공합니다.')\n",
    "print('현재 프로그램은 alpha test중에 있습니다. 모두 실제 충무로 식당 실측 자료조사를 기반으로 제작되었으나, 다양한 상황변수 체크를 위해 일부는 fake data로 작성되었음을 알려드립니다')\n",
    "print('--------------------------------------------------------------------')\n",
    "print('\\n자~ 이제 맛집을 찾으러 떠나볼까요? 본인의 사용가능한 예산과 이동가능 시간을 입력해주세요^^')\n",
    "print('\\n-------------------------------------------------------------------')\n",
    "money = int(input('사용가능한 금액을 입력해주세요(원): '))  \n",
    "time = int(input('최대 이동가능한 시간을 입력해주세요(분): ')) \n",
    "print('\\n--------------------------검색 완료-----------------------------------')\n",
    "\n",
    "\n",
    "for (key,value) in menus.items(): \n",
    "    if(int(value) <= money):  \n",
    "        list_price.append(1)\n",
    "    elif(int(value) > money):  \n",
    "        list_price.append(0)   \n",
    "    \n",
    "for (key,value) in distances.items(): \n",
    "    if(int(value) <= time):  \n",
    "        list_distance.append(1)\n",
    "    elif(int(value) > time): \n",
    "        list_distance.append(0)   \n",
    "\n",
    "for i in range(len(menus)):    \n",
    "    list_total.append(list_price[i]+list_distance[i])  \n",
    "    if(int(list_total[i])==2):\n",
    "        menu_check.append(i)     \n",
    "    elif(int(list_total[i])==1): \n",
    "        empty_check.append(i)       \n",
    "    elif(int(list_total[i])==0):\n",
    "        empty_check.append(i)\n",
    "\n",
    "if int(len(empty_check)==10): \n",
    "          print('해당조건에 맞는 음식점이 없습니다. 죄송합니다ㅜㅜ')\n",
    "    \n",
    "for j in range(len(menu_check)): \n",
    "    if(menu_check[j]==0): \n",
    "        print('홍탁 음식점을 추천드립니다. 대표메뉴:보쌈정식/가격:8000원')\n",
    "    elif(menu_check[j]==1):\n",
    "        print('계림마늘닭 음식점을 추천드립니다. 대표메뉴:마늘닭볶음탕/가격:10000원')\n",
    "    "
   ]
  },
  {
   "cell_type": "code",
   "execution_count": null,
   "id": "145c6c6f",
   "metadata": {},
   "outputs": [],
   "source": []
  }
 ],
 "metadata": {
  "kernelspec": {
   "display_name": "Python 3",
   "language": "python",
   "name": "python3"
  },
  "language_info": {
   "codemirror_mode": {
    "name": "ipython",
    "version": 3
   },
   "file_extension": ".py",
   "mimetype": "text/x-python",
   "name": "python",
   "nbconvert_exporter": "python",
   "pygments_lexer": "ipython3",
   "version": "3.8.8"
  }
 },
 "nbformat": 4,
 "nbformat_minor": 5
}
